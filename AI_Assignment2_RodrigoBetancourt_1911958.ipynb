{
  "nbformat": 4,
  "nbformat_minor": 0,
  "metadata": {
    "colab": {
      "provenance": [],
      "collapsed_sections": []
    },
    "kernelspec": {
      "name": "python3",
      "display_name": "Python 3"
    },
    "language_info": {
      "name": "python"
    }
  },
  "cells": [
    {
      "cell_type": "code",
      "source": [],
      "metadata": {
        "id": "h06iu22bLl_J"
      },
      "execution_count": null,
      "outputs": []
    },
    {
      "cell_type": "code",
      "source": [
        "\"\"\"\n",
        "Name: Rodrigo Betancourt Martínez\n",
        "Student number: 1911958\n",
        "Class: Artificial Intelligence\n",
        "Title: Activity 2\n",
        "Class time: N4-N6\n",
        "\"\"\"\n",
        "\n",
        "name = input(\"Write your name: \")\n",
        "if name in (\"Ana\", \"John\", \"Peter\"): \n",
        "  print(\"name rejected\")\n",
        "else :\n",
        "    print(\"Hi, how are u?\", name)"
      ],
      "metadata": {
        "id": "LiQgbhCsZCCI",
        "colab": {
          "base_uri": "https://localhost:8080/"
        },
        "outputId": "eb328670-60ed-45a5-dfce-65ceb8491596"
      },
      "execution_count": 7,
      "outputs": [
        {
          "output_type": "stream",
          "name": "stdout",
          "text": [
            "Write your name: Rodrigo\n",
            "Hi, how are u? Rodrigo\n"
          ]
        }
      ]
    },
    {
      "cell_type": "code",
      "source": [
        "list1 = [\"Fortnite\", \"Lol\", \"FallGuys\", \"RocketLeague\", \"Devour\", \"CSGO\"]\n",
        "print(\"Last element of the list: \", list1[-1])\n",
        "\n",
        "list1.reverse()\n",
        "print(\"Reversed list: \", list1)\n",
        "\n"
      ],
      "metadata": {
        "colab": {
          "base_uri": "https://localhost:8080/"
        },
        "id": "24WbpjlCBalg",
        "outputId": "78ec8c23-dc27-4eeb-d375-8dbd1f03e6c0"
      },
      "execution_count": 23,
      "outputs": [
        {
          "output_type": "stream",
          "name": "stdout",
          "text": [
            "Last element of the list:  CSGO\n",
            "Reversed list:  ['CSGO', 'Devour', 'RocketLeague', 'FallGuys', 'Lol', 'Fortnite']\n"
          ]
        }
      ]
    },
    {
      "cell_type": "code",
      "source": [
        "list2 = [\"Hi\", \"My\", \"Name\", \"is\", \"Rodri\", \"Bet\"]\n",
        "def printed_frame(*list2):\n",
        "  size = max(len(word) for word in list2)\n",
        "  print(\"*\" * (size + 4))\n",
        "  for word in list2:\n",
        "    print(\"* {:<{}} *\".format(word, size))\n",
        "    print(\"*\" * (size + 4))\n",
        "printed_frame(*list2)"
      ],
      "metadata": {
        "colab": {
          "base_uri": "https://localhost:8080/"
        },
        "id": "inNfv-7vBa8F",
        "outputId": "7108bbd4-c45b-463f-d409-c056fef778be"
      },
      "execution_count": 33,
      "outputs": [
        {
          "output_type": "stream",
          "name": "stdout",
          "text": [
            "*********\n",
            "* Hi    *\n",
            "*********\n",
            "* My    *\n",
            "*********\n",
            "* Name  *\n",
            "*********\n",
            "* is    *\n",
            "*********\n",
            "* Rodri *\n",
            "*********\n",
            "* Bet   *\n",
            "*********\n"
          ]
        }
      ]
    }
  ]
}